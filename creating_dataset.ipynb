{
 "cells": [
  {
   "cell_type": "code",
   "execution_count": 18,
   "metadata": {},
   "outputs": [],
   "source": [
    "import json, os\n",
    "import torch, torchvision\n",
    "from torch import nn\n",
    "import matplotlib.pyplot as plt\n",
    "from pathlib import Path\n",
    "import numpy as np\n",
    "from sentence_transformers import SentenceTransformer\n",
    "import random\n",
    "from PIL import Image\n",
    "from torchvision.models import resnet50, ResNet50_Weights\n",
    "import trainer"
   ]
  },
  {
   "cell_type": "code",
   "execution_count": 2,
   "metadata": {},
   "outputs": [],
   "source": [
    "max_length = 225\n",
    "amount_images_in_new_dataset = 150\n",
    "batch_size = 32\n",
    "dataset_save_dir = \"encoded_data/data\"\n",
    "new_dataset_dir = \"landing_site_classification\"\n",
    "device = \"cuda\" if torch.cuda.is_available() else \"cpu\""
   ]
  },
  {
   "cell_type": "code",
   "execution_count": 3,
   "metadata": {},
   "outputs": [],
   "source": [
    "\n",
    "json_path= os.path.join(\"mars_dataset\", \"meta_clean.json\")\n",
    "json_data = json.load(open(json_path))\n",
    "python_data = {}\n",
    "\n",
    "for data_point in json_data:\n",
    "    python_data[data_point] = json_data[data_point][\"title\"] + \" \" + json_data[data_point][\"caption\"]"
   ]
  },
  {
   "cell_type": "code",
   "execution_count": 4,
   "metadata": {},
   "outputs": [
    {
     "data": {
      "text/plain": [
       "'Fan in Southern Highlands Crater Many channels formed by water (when the climate of Mars was very different to that of today) cut the ancient highlands of Mars. Water running through these channels picks up rocky debris and carries it or rolls it along the channel bed. Occasionally these channels will empty into a crater or other low point in the terrain and the water will drop the material it is transporting. This material can build up in large fan-shaped mounds at the end of the channel. In this observation, this is likely what has happened. The fan-shaped mound (which appears bluish in this false-color image) sits at the end of a short channel. Analysis of spectroscopic data shows that the composition of this material indicates a history of interaction with liquid water. The full resolution version of this HiRISE image shows layering that indicates this material was dumped here in at least three separate episodes. Although they may once have been common, features like this are now rare. Scientists study them to try and understand how much liquid water affected the composition and appearance of Mars in its early history. Written by: Eldar Noe (2 September 2009)This is a stereo pair with ESP_020106_1670.'"
      ]
     },
     "execution_count": 4,
     "metadata": {},
     "output_type": "execute_result"
    }
   ],
   "source": [
    "python_data[\"ESP_014159_1670\"]"
   ]
  },
  {
   "cell_type": "code",
   "execution_count": 5,
   "metadata": {},
   "outputs": [],
   "source": [
    "model = SentenceTransformer('paraphrase-MiniLM-L12-v2')\n",
    "\n",
    "class BertEncodedDataset(torch.utils.data.Dataset):\n",
    "    def __init__(self, data_dict, model=model):\n",
    "        self.classes = [name for name in data_dict]\n",
    "        if not os.path.exists(dataset_save_dir):\n",
    "            text = [model.encode(text, convert_to_tensor=True) for text in list(data_dict.values())]\n",
    "            data = torch.stack(text)\n",
    "            os.makedirs(dataset_save_dir.split(\"/\")[0], exist_ok=True)\n",
    "            # y = torch.arange(len(data))\n",
    "            np.savez(dataset_save_dir, data.cpu())\n",
    "        npzfile = np.load(dataset_save_dir + \".npz\")\n",
    "        self.encoded = torch.from_numpy(npzfile['arr_0'])\n",
    "\n",
    "    def __len__(self) -> int:\n",
    "        \"Returns the total number of samples.\"\n",
    "        return len(self.encoded)\n",
    "    \n",
    "    def __getitem__(self, index: int):\n",
    "        return self.encoded[index], self.classes[index]"
   ]
  },
  {
   "cell_type": "code",
   "execution_count": 6,
   "metadata": {},
   "outputs": [],
   "source": [
    "dataset = BertEncodedDataset(python_data)"
   ]
  },
  {
   "cell_type": "code",
   "execution_count": 7,
   "metadata": {},
   "outputs": [],
   "source": [
    "cos = nn.CosineSimilarity(dim=0)\n",
    "\n",
    "query = model.encode(\"flat, water, equator\", convert_to_tensor=True)\n",
    "\n",
    "similar_dict = {}\n",
    "\n",
    "for desc, img in dataset:\n",
    "    similar_val = cos(query.to(device), desc.to(device))\n",
    "    similar_dict[similar_val.item()] = img\n",
    "\n",
    "sorted_dict = dict(sorted(similar_dict.items(), reverse=True))"
   ]
  },
  {
   "cell_type": "code",
   "execution_count": 8,
   "metadata": {},
   "outputs": [],
   "source": [
    "landing_site_images = list(sorted_dict.values())[:amount_images_in_new_dataset]\n",
    "not_landing_site_images = random.choices(list(sorted_dict.values())[amount_images_in_new_dataset:], k=amount_images_in_new_dataset)"
   ]
  },
  {
   "cell_type": "code",
   "execution_count": 9,
   "metadata": {},
   "outputs": [],
   "source": [
    "if not os.path.exists(new_dataset_dir):\n",
    "    os.makedirs(new_dataset_dir)\n",
    "    landing_site_path = new_dataset_dir + \"/landing_site\"\n",
    "    not_landing_site_path = new_dataset_dir + \"/not_landing_site\"\n",
    "    os.makedirs(landing_site_path)\n",
    "    os.makedirs(not_landing_site_path)\n",
    "    for file_name in landing_site_images:\n",
    "        img = Image.open(f\"mars_dataset/images/{file_name}.jpg\")\n",
    "        img.save(landing_site_path + f\"/{file_name}.jpg\")  \n",
    "    for file_name in not_landing_site_images:\n",
    "        img = Image.open(f\"mars_dataset/images/{file_name}.jpg\")\n",
    "        img.save(not_landing_site_path + f\"/{file_name}.jpg\")  "
   ]
  },
  {
   "cell_type": "code",
   "execution_count": 10,
   "metadata": {},
   "outputs": [],
   "source": [
    "model = resnet50()\n",
    "model.conv1 = nn.Conv2d(10, 64, kernel_size=(7, 7), stride=(2, 2), padding=(3, 3), bias=False)\n",
    "model.fc = nn.Linear(2048, 17)\n",
    "model.load_state_dict(torch.load(\"resnet50-sentinel2.pt\"))\n",
    "for param in model.parameters():\n",
    "    param.requires_grad = False\n",
    "model.conv1 = nn.Conv2d(3, 64, kernel_size=(7, 7), stride=(2, 2), padding=(3, 3), bias=False)\n",
    "model.fc = nn.Linear(2048, 1)\n",
    "transform = ResNet50_Weights.DEFAULT.transforms()\n",
    "\n",
    "### Try using a model that has 10 input channels, try loading a model from pytorch"
   ]
  },
  {
   "cell_type": "code",
   "execution_count": 11,
   "metadata": {},
   "outputs": [],
   "source": [
    "dataset = torchvision.datasets.ImageFolder(new_dataset_dir, transform=transform)\n",
    "n_test = int(0.15 * len(dataset))  # take ~10% for test\n",
    "test_set = torch.utils.data.Subset(dataset, range(n_test))  # take first 10%\n",
    "train_set = torch.utils.data.Subset(dataset, range(n_test, len(dataset))) \n",
    "\n",
    "train_dataloader = torch.utils.data.DataLoader(train_set, batch_size=batch_size, shuffle=True)\n",
    "test_dataloader = torch.utils.data.DataLoader(test_set, batch_size=batch_size)"
   ]
  }
 ],
 "metadata": {
  "kernelspec": {
   "display_name": "Python 3",
   "language": "python",
   "name": "python3"
  },
  "language_info": {
   "codemirror_mode": {
    "name": "ipython",
    "version": 3
   },
   "file_extension": ".py",
   "mimetype": "text/x-python",
   "name": "python",
   "nbconvert_exporter": "python",
   "pygments_lexer": "ipython3",
   "version": "3.9.0"
  }
 },
 "nbformat": 4,
 "nbformat_minor": 2
}
